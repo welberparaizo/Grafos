{
  "nbformat": 4,
  "nbformat_minor": 0,
  "metadata": {
    "colab": {
      "provenance": [],
      "authorship_tag": "ABX9TyOFAV6EUGq9/UtqoQ4MdlKk",
      "include_colab_link": true
    },
    "kernelspec": {
      "name": "python3",
      "display_name": "Python 3"
    },
    "language_info": {
      "name": "python"
    }
  },
  "cells": [
    {
      "cell_type": "markdown",
      "metadata": {
        "id": "view-in-github",
        "colab_type": "text"
      },
      "source": [
        "<a href=\"https://colab.research.google.com/github/welberparaizo/Grafos/blob/main/BFS.ipynb\" target=\"_parent\"><img src=\"https://colab.research.google.com/assets/colab-badge.svg\" alt=\"Open In Colab\"/></a>"
      ]
    },
    {
      "cell_type": "markdown",
      "source": [
        "Grafo - Aplicando o algoritmo de busca em largura e busca em profundidade"
      ],
      "metadata": {
        "id": "uvtINzaqbcUp"
      }
    },
    {
      "cell_type": "code",
      "source": [
        "class Vertice():\n",
        "    def __init__(self, id):\n",
        "        self.id = id\n",
        "        self.estimativa = 999999\n",
        "        self.input = 0\n",
        "        self.output = 0\n",
        "        self.visitado = False\n",
        "        self.predecessor = []\n",
        "\n",
        "    def setVisitado(self, valor):\n",
        "        self.visitado = valor\n",
        "\n",
        "    def getVisitado(self):\n",
        "        return self.visitado\n",
        "\n",
        "    def setId(self, id):\n",
        "        self.id = id\n",
        "\n",
        "    def getId(self):\n",
        "        return self.id\n",
        "\n",
        "    def setImput(self, inp):\n",
        "        self.input = inp\n",
        "\n",
        "    def setOutput(self, out):\n",
        "        self.output = out\n",
        "\n",
        "    def setEstimativa(self, estimativa):\n",
        "        self.estimativa = estimativa\n",
        "\n",
        "    def getEstimativa(self):\n",
        "        return self.estimativa\n",
        "\n",
        "    def __str__(self):\n",
        "        return (\" Vertice  : %s \\n Estimativa: %i \\n Tempo(%i\\%i): \" % (\n",
        "            self.id, self.estimativa, self.input, self.output))  # imprimir o predecesso\n",
        "\n",
        "    def __lt__(self, v):\n",
        "        return self.estimativa < v.estimativa\n",
        "\n",
        "    def __eq__(self, v):\n",
        "        return self.estimativa == v.estimativa\n",
        "\n",
        "    def __eq__(self, v):\n",
        "        return self.id == v.id\n",
        "\n",
        "    def __gt__(self, v):\n",
        "        return self.estimativa > v.estimativa"
      ],
      "metadata": {
        "id": "cKaL2JkUcoy0"
      },
      "execution_count": null,
      "outputs": []
    },
    {
      "cell_type": "code",
      "source": [
        "#Aresta\n",
        "class Aresta():\n",
        "\tdef __init__(self,origem,destino,peso = 0):\n",
        "\t\tself.origem = origem\n",
        "\t\tself.destino = destino\n",
        "\t\tself.peso = peso\n",
        "\n",
        "\tdef getOrigem(self):\n",
        "\t\treturn self.origem\n",
        "\n",
        "\tdef getDestino(self):\n",
        "\t\treturn self.destino\n",
        "\n",
        "\tdef setpeso(self,peso):\n",
        "\t\tself.peso = peso\n",
        "\n",
        "\tdef\tgetPeso(self):\n",
        "\t\treturn self.peso\n",
        "\n",
        "\tdef setOrigem(self,vertice):\n",
        "\t\tself.origem = vertice\n",
        "\n",
        "\tdef setDestino(self,vertice):\n",
        "\t\tself.destino = vertice\n",
        "\n",
        "\tdef __str__(self):\n",
        "\t\treturn \"A(%s----%i---->%s)\" % (self.origem.getId(),self.peso,self.destino.getId())"
      ],
      "metadata": {
        "id": "_Tn1p-e9cth9"
      },
      "execution_count": null,
      "outputs": []
    },
    {
      "cell_type": "code",
      "source": [
        "class Grafo:\n",
        "  def __init__(self, direcionado):\n",
        "    self.listas_vertices = {}\n",
        "    self.listas_arestas = {}\n",
        "    self.direcionado = direcionado\n",
        "    self.tempo = 0\n",
        "\n",
        "  def adiciona_vertice(self, identificador):\n",
        "    self.listas_vertices.append(Vertice(identificador))\n",
        "\n",
        "  def busca_aresta(self, u, v):\n",
        "    for w in self.listas_arestas:\n",
        "      origem = w.getOrigem()\n",
        "      destino = w.getDestino()\n",
        "      if (origem.getId() == u.getId() and destino.getId() == v.getId()):\n",
        "        return w\n",
        "\n",
        "  def busca_vertice(self, identificador):\n",
        "    for v in self.listas_vertices:\n",
        "      if (v.getId() == identificador):\n",
        "        return v\n",
        "\n",
        "  def Nova_aresta(self, u, v, peso):\n",
        "    origen_aux = self.busca_vertice(u)\n",
        "    destino_aux = self.busca_vertice(v)\n",
        "    nova_aresta = Aresta(origen_aux, destino_aux, peso)\n",
        "    self.listas_arestas.append(nova_aresta)"
      ],
      "metadata": {
        "id": "V-w-zz4pbmwk"
      },
      "execution_count": null,
      "outputs": []
    }
  ]
}