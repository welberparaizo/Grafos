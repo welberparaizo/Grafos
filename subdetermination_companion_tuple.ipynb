{
  "nbformat": 4,
  "nbformat_minor": 0,
  "metadata": {
    "colab": {
      "provenance": [],
      "authorship_tag": "ABX9TyO8eMv7rkbJBybz60AUhkDV",
      "include_colab_link": true
    },
    "kernelspec": {
      "name": "python3",
      "display_name": "Python 3"
    },
    "language_info": {
      "name": "python"
    }
  },
  "cells": [
    {
      "cell_type": "markdown",
      "metadata": {
        "id": "view-in-github",
        "colab_type": "text"
      },
      "source": [
        "<a href=\"https://colab.research.google.com/github/welberparaizo/Grafos/blob/main/subdetermination_companion_tuple.ipynb\" target=\"_parent\"><img src=\"https://colab.research.google.com/assets/colab-badge.svg\" alt=\"Open In Colab\"/></a>"
      ]
    },
    {
      "cell_type": "code",
      "execution_count": 1,
      "metadata": {
        "id": "AQRVYTAc_VYx"
      },
      "outputs": [],
      "source": [
        "def sub_comp_tuple(companion_tuple, subdetermination):\n",
        "    \"\"\"\n",
        "    Função para construir a tupla acompanhante subdeterminada.\n",
        "\n",
        "    Parâmetros:\n",
        "    companion_tuple (tuple): Tupla acompanhante original contendo o número de elementos em cada aspecto.\n",
        "    subdetermination (list): Lista que representa a subdeterminação, onde 1 indica presença e 0 indica ausência.\n",
        "\n",
        "    Retorna:\n",
        "    tuple: Tupla acompanhante subdeterminada.\n",
        "    \"\"\"\n",
        "    # Verifica se o comprimento da subdeterminação é igual ao da tupla acompanhante\n",
        "    if len(companion_tuple) != len(subdetermination):\n",
        "        raise ValueError(\"A subdeterminação deve ter o mesmo número de elementos que a tupla acompanhante.\")\n",
        "\n",
        "    # Construindo a tupla acompanhante subdeterminada\n",
        "    sub_companion_tuple = []\n",
        "\n",
        "    for count, presence in zip(companion_tuple, subdetermination):\n",
        "        # Multiplica o número de elementos pela presença (1 ou 0)\n",
        "        sub_companion_tuple.append(count * presence)\n",
        "\n",
        "    return tuple(sub_companion_tuple)"
      ]
    },
    {
      "cell_type": "code",
      "source": [
        "# Exemplo de uso:\n",
        "original_tau = (3, 2, 3)  # Tupla acompanhante original\n",
        "subdetermination = [1, 0, 1]  # Presença do primeiro e do terceiro aspectos, ausência do segundo\n",
        "\n",
        "# Construir a tupla acompanhante subdeterminada\n",
        "sub_tau = sub_comp_tuple(original_tau, subdetermination)\n",
        "\n",
        "print(\"Tupla acompanhante subdeterminada:\", sub_tau)"
      ],
      "metadata": {
        "colab": {
          "base_uri": "https://localhost:8080/"
        },
        "id": "xZ0mfAav_nzS",
        "outputId": "edbd27ed-b6b8-40b5-ac8c-865fe2adfec4"
      },
      "execution_count": 2,
      "outputs": [
        {
          "output_type": "stream",
          "name": "stdout",
          "text": [
            "Tupla acompanhante subdeterminada: (3, 0, 3)\n"
          ]
        }
      ]
    }
  ]
}