{
  "nbformat": 4,
  "nbformat_minor": 0,
  "metadata": {
    "colab": {
      "provenance": [],
      "authorship_tag": "ABX9TyOF9YLQo2khwUTQYgd5y0nL",
      "include_colab_link": true
    },
    "kernelspec": {
      "name": "python3",
      "display_name": "Python 3"
    },
    "language_info": {
      "name": "python"
    }
  },
  "cells": [
    {
      "cell_type": "markdown",
      "metadata": {
        "id": "view-in-github",
        "colab_type": "text"
      },
      "source": [
        "<a href=\"https://colab.research.google.com/github/welberparaizo/Grafos/blob/main/Euleriano_semi_euleriano.ipynb\" target=\"_parent\"><img src=\"https://colab.research.google.com/assets/colab-badge.svg\" alt=\"Open In Colab\"/></a>"
      ]
    },
    {
      "cell_type": "code",
      "execution_count": 19,
      "metadata": {
        "id": "WcIm7fWYvNn0"
      },
      "outputs": [],
      "source": [
        "class Grafo:\n",
        "\n",
        "  def __init__(self, vertices):\n",
        "    self.vertices = vertices #Recebe o número de vértices do Grafo\n",
        "    self.grafo =[[0]* self.vertices for i in range(self.vertices) ] #  Cria a matriz de adjacência preenchendo com zeros\n",
        "\n",
        "  #Para grafos direcionados simples\n",
        "  def adiciona_aresta(self, u, v):\n",
        "    self.grafo[u-1][v-1] += 1\n",
        "    if u != v:\n",
        "        self.grafo[v-1][u-1] += 1\n",
        "\n",
        "  def tem_aresta(self, u, v):\n",
        "    if self.grafo[u-1][v-1] > 0:\n",
        "      return True\n",
        "    else:\n",
        "      return False\n",
        "\n",
        "\n",
        "  def grau(self, v):\n",
        "    grau = 0\n",
        "    for i in range(self.vertices):\n",
        "      grau += self.grafo[v-1][i]\n",
        "    return grau\n",
        "\n",
        "\n",
        "  def euleriano(self):\n",
        "    for i in range(self.vertices):\n",
        "      if self.grau(i) % 2 != 0:\n",
        "        return False\n",
        "        print(\"Não é um grafo euleriano\")\n",
        "    return True\n",
        "    print(\"é um grafo euleriano\")\n",
        "\n",
        "  def semi_euleriano(self):\n",
        "    for i in range(self.vertices):\n",
        "      if self.grau(i) % 2 != 0:\n",
        "        return False\n",
        "        print(\"Não é um grafo semi-euleriano\")\n",
        "    return True\n",
        "    print(\"é um grafo semi-euleriano\")\n",
        "\n",
        "  # Corrected indentation for print_matriz method\n",
        "  def print_matriz(self):\n",
        "    print('A matriz de adjacência é:')\n",
        "    for i in range(self.vertices):\n",
        "      print(self.grafo[i])\n"
      ]
    },
    {
      "cell_type": "code",
      "source": [
        "g = Grafo(5)\n",
        "g.adiciona_aresta(1,2)\n",
        "g.adiciona_aresta(1,3)\n",
        "g.adiciona_aresta(2,4)\n",
        "g.adiciona_aresta(3,4)\n",
        "\n",
        "g.print_matriz()\n",
        "g.euleriano()\n",
        "g.semi_euleriano()"
      ],
      "metadata": {
        "colab": {
          "base_uri": "https://localhost:8080/"
        },
        "id": "-cZOtdSayWeY",
        "outputId": "cdfb5d45-0ddc-47fe-9444-a11013982975"
      },
      "execution_count": 20,
      "outputs": [
        {
          "output_type": "stream",
          "name": "stdout",
          "text": [
            "A matriz de adjacência é:\n",
            "[0, 1, 1, 0, 0]\n",
            "[1, 0, 0, 1, 0]\n",
            "[1, 0, 0, 1, 0]\n",
            "[0, 1, 1, 0, 0]\n",
            "[0, 0, 0, 0, 0]\n"
          ]
        },
        {
          "output_type": "execute_result",
          "data": {
            "text/plain": [
              "True"
            ]
          },
          "metadata": {},
          "execution_count": 20
        }
      ]
    }
  ]
}