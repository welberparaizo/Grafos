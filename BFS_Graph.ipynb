{
  "nbformat": 4,
  "nbformat_minor": 0,
  "metadata": {
    "colab": {
      "provenance": [],
      "authorship_tag": "ABX9TyOl4ntRNic0BFqJ7qvwbZyR",
      "include_colab_link": true
    },
    "kernelspec": {
      "name": "python3",
      "display_name": "Python 3"
    },
    "language_info": {
      "name": "python"
    }
  },
  "cells": [
    {
      "cell_type": "markdown",
      "metadata": {
        "id": "view-in-github",
        "colab_type": "text"
      },
      "source": [
        "<a href=\"https://colab.research.google.com/github/welberparaizo/Grafos/blob/main/BFS_Graph.ipynb\" target=\"_parent\"><img src=\"https://colab.research.google.com/assets/colab-badge.svg\" alt=\"Open In Colab\"/></a>"
      ]
    },
    {
      "cell_type": "code",
      "execution_count": null,
      "metadata": {
        "colab": {
          "base_uri": "https://localhost:8080/"
        },
        "id": "7ipgzSnte5mQ",
        "outputId": "6630e21f-b8e0-43d3-c189-0d40f571b7e1"
      },
      "outputs": [
        {
          "output_type": "stream",
          "name": "stdout",
          "text": [
            "Nó: D, Prioridade: 4\n",
            "Nó: B, Prioridade: 1\n",
            "Nó: E, Prioridade: 0\n",
            "Nó: A, Prioridade: 3\n",
            "Nó: C, Prioridade: 2\n",
            "Nó: F, Prioridade: 5\n"
          ]
        }
      ],
      "source": [
        "import heapq\n",
        "\n",
        "def bfs_priority(graph, start, priorities):\n",
        "    # Inicializa a fila de prioridade com o nó inicial e sua prioridade\n",
        "    priority_queue = [(priorities[start], start)]\n",
        "\n",
        "    # Conjunto para rastrear os nós visitados\n",
        "    visited = set([start])\n",
        "\n",
        "    while priority_queue:\n",
        "        # Remove o nó de maior prioridade (menor valor) da fila\n",
        "        current_priority, node = heapq.heappop(priority_queue)\n",
        "        print(f\"Nó: {node}, Prioridade: {current_priority}\")\n",
        "\n",
        "        # Itera sobre os vizinhos do nó atual\n",
        "        for neighbor in graph[node]:\n",
        "            if neighbor not in visited:\n",
        "                # Adiciona o vizinho na fila com a sua prioridade\n",
        "                heapq.heappush(priority_queue, (priorities[neighbor], neighbor))\n",
        "                visited.add(neighbor)\n",
        "\n",
        "# Exemplo de uso\n",
        "graph = {\n",
        "    'A': ['B', 'C'],\n",
        "    'B': ['A', 'D', 'E'],\n",
        "    'C': ['A', 'F'],\n",
        "    'D': ['B'],\n",
        "    'E': ['B', 'F'],\n",
        "    'F': ['C', 'E']\n",
        "}\n",
        "\n",
        "# Prioridades associadas a cada nó\n",
        "priorities = {\n",
        "    'A': 3,\n",
        "    'B': 1,\n",
        "    'C': 2,\n",
        "    'D': 4,\n",
        "    'E': 0,\n",
        "    'F': 5\n",
        "}\n",
        "\n",
        "# Inicia a busca a partir do nó 'A'\n",
        "bfs_priority(graph, 'D', priorities)\n"
      ]
    }
  ]
}