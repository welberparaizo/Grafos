{
  "nbformat": 4,
  "nbformat_minor": 0,
  "metadata": {
    "colab": {
      "provenance": [],
      "authorship_tag": "ABX9TyMaEG2r9Op96bhrLy7rbYmO",
      "include_colab_link": true
    },
    "kernelspec": {
      "name": "python3",
      "display_name": "Python 3"
    },
    "language_info": {
      "name": "python"
    }
  },
  "cells": [
    {
      "cell_type": "markdown",
      "metadata": {
        "id": "view-in-github",
        "colab_type": "text"
      },
      "source": [
        "<a href=\"https://colab.research.google.com/github/welberparaizo/Grafos/blob/main/Representa%C3%A7%C3%A3o_numerica_composite_vertex_.ipynb\" target=\"_parent\"><img src=\"https://colab.research.google.com/assets/colab-badge.svg\" alt=\"Open In Colab\"/></a>"
      ]
    },
    {
      "cell_type": "code",
      "execution_count": 1,
      "metadata": {
        "id": "TEFFiotxIvhd"
      },
      "outputs": [],
      "source": [
        "def calculate_weight(index, tau):\n",
        "    \"\"\"\n",
        "    Calcula o peso do índice para a representação numérica.\n",
        "\n",
        "    Parâmetros:\n",
        "    index (int): Índice do aspecto.\n",
        "    tau (tuple): Tupla acompanhante com o número de elementos em cada aspecto.\n",
        "\n",
        "    Retorna:\n",
        "    int: Peso do índice.\n",
        "    \"\"\"\n",
        "    if index == 1:\n",
        "        return 1\n",
        "    else:\n",
        "        weight = 1\n",
        "        for j in range(1, index):\n",
        "            weight *= tau[j-1]  # Multiplica pelo número de elementos nos aspectos anteriores\n",
        "        return weight"
      ]
    },
    {
      "cell_type": "code",
      "source": [
        "def representation_number(vertex, tau):\n",
        "    \"\"\"\n",
        "    Calcula a representação numérica de um vértice composto.\n",
        "\n",
        "    Parâmetros:\n",
        "    vertex (tuple): Tupla que representa o vértice composto.\n",
        "    tau (tuple): Tupla acompanhante com o número de elementos em cada aspecto.\n",
        "\n",
        "    Retorna:\n",
        "    int: Representação numérica do vértice.\n",
        "    \"\"\"\n",
        "    num_aspects = len(tau)\n",
        "    representation = 1  # Começa com 1 conforme a fórmula\n",
        "\n",
        "    for i in range(num_aspects):\n",
        "        # Índice do elemento no aspecto (considerando indexação a partir de 0)\n",
        "        element_index = vertex[i]  # Obtém o elemento da tupla do vértice\n",
        "        # Adiciona o peso calculado multiplicado pelo índice do elemento\n",
        "        representation += calculate_weight(i + 1, tau) * element_index\n",
        "\n",
        "    return representation"
      ],
      "metadata": {
        "id": "LOrBHAUFI29o"
      },
      "execution_count": 2,
      "outputs": []
    },
    {
      "cell_type": "code",
      "source": [
        "# Exemplo de uso:\n",
        "# Definindo a tupla acompanhante\n",
        "tau = (3, 2, 3)  # Exemplificando: 3 localizações, 2 modos de transporte, 3 intervalos de tempo\n",
        "\n",
        "# Vértice composto (C, Ônibus, Noite)\n",
        "# Índices: C=2, Ônibus=0, Noite=2 (indexação começando em 0)\n",
        "vertex = (2, 0, 2)  # (C, Ônibus, Noite)\n",
        "\n",
        "# Calculando a representação numérica\n",
        "rep_num = representation_number(vertex, tau)\n",
        "\n",
        "print(\"Representação numérica do vértice composto:\", rep_num)"
      ],
      "metadata": {
        "colab": {
          "base_uri": "https://localhost:8080/"
        },
        "id": "M0N2FHIaI72q",
        "outputId": "4373cb7e-38bc-402b-8842-69bc6ebe1975"
      },
      "execution_count": 4,
      "outputs": [
        {
          "output_type": "stream",
          "name": "stdout",
          "text": [
            "Representação numérica do vértice composto: 18\n"
          ]
        }
      ]
    }
  ]
}