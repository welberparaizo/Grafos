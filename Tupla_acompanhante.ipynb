{
  "nbformat": 4,
  "nbformat_minor": 0,
  "metadata": {
    "colab": {
      "provenance": [],
      "authorship_tag": "ABX9TyMJ62xFHYWinHucLcCqmaPa",
      "include_colab_link": true
    },
    "kernelspec": {
      "name": "python3",
      "display_name": "Python 3"
    },
    "language_info": {
      "name": "python"
    }
  },
  "cells": [
    {
      "cell_type": "markdown",
      "metadata": {
        "id": "view-in-github",
        "colab_type": "text"
      },
      "source": [
        "<a href=\"https://colab.research.google.com/github/welberparaizo/Grafos/blob/main/Tupla_acompanhante.ipynb\" target=\"_parent\"><img src=\"https://colab.research.google.com/assets/colab-badge.svg\" alt=\"Open In Colab\"/></a>"
      ]
    },
    {
      "cell_type": "code",
      "execution_count": 1,
      "metadata": {
        "id": "pGhiVzJS8teL"
      },
      "outputs": [],
      "source": [
        "def comp_tuple(aspect_list):\n",
        "    \"\"\"\n",
        "    Função para construir a tupla acompanhante a partir de uma lista de aspectos.\n",
        "\n",
        "    Parâmetros:\n",
        "    aspect_list (list): Uma lista de aspectos onde cada aspecto é um conjunto de elementos.\n",
        "\n",
        "    Retorna:\n",
        "    tuple: Tupla acompanhante contendo o número de elementos em cada aspecto.\n",
        "    \"\"\"\n",
        "    # Número de aspectos\n",
        "    p = len(aspect_list)\n",
        "\n",
        "    # Construindo a tupla acompanhante\n",
        "    companion_tuple = []\n",
        "\n",
        "    for aspect in aspect_list:\n",
        "        # Adiciona o número de elementos do aspecto à tupla\n",
        "        companion_tuple.append(len(aspect))\n",
        "\n",
        "    return tuple(companion_tuple)"
      ]
    },
    {
      "cell_type": "code",
      "source": [
        "# Exemplo de uso:\n",
        "aspect_list = [\n",
        "    {'A', 'B', 'C'},  # Localizações\n",
        "    {'Ônibus', 'Metrô'},  # Modos de Transporte\n",
        "    {'Manhã', 'Tarde', 'Noite'},  # Intervalos de Tempo\n",
        "    {'c1', 'c2', 'c3', 'c4', 'c5'}\n",
        "]\n",
        "\n",
        "# Construir a tupla acompanhante\n",
        "tau = comp_tuple(aspect_list)\n",
        "\n",
        "print(\"Tupla acompanhante:\", tau)"
      ],
      "metadata": {
        "colab": {
          "base_uri": "https://localhost:8080/"
        },
        "id": "5tvqaPE79pUx",
        "outputId": "bcfdcc6f-bca2-4f3c-9ffa-cac4d41bdef3"
      },
      "execution_count": 4,
      "outputs": [
        {
          "output_type": "stream",
          "name": "stdout",
          "text": [
            "Tupla acompanhante: (3, 2, 3, 5)\n"
          ]
        }
      ]
    }
  ]
}