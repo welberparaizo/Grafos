{
  "nbformat": 4,
  "nbformat_minor": 0,
  "metadata": {
    "colab": {
      "provenance": [],
      "authorship_tag": "ABX9TyOtiywaZijPhjTfrHSDz+dC",
      "include_colab_link": true
    },
    "kernelspec": {
      "name": "python3",
      "display_name": "Python 3"
    },
    "language_info": {
      "name": "python"
    }
  },
  "cells": [
    {
      "cell_type": "markdown",
      "metadata": {
        "id": "view-in-github",
        "colab_type": "text"
      },
      "source": [
        "<a href=\"https://colab.research.google.com/github/welberparaizo/Grafos/blob/main/composite_Vertex_numerical_representation.ipynb\" target=\"_parent\"><img src=\"https://colab.research.google.com/assets/colab-badge.svg\" alt=\"Open In Colab\"/></a>"
      ]
    },
    {
      "cell_type": "markdown",
      "source": [
        "Determinação do vértice composto a partir de sua representação numérica."
      ],
      "metadata": {
        "id": "XMno_75fOP9-"
      }
    },
    {
      "cell_type": "code",
      "source": [
        "def calculate_weight_inverse(index, tau):\n",
        "    \"\"\"\n",
        "    Calcula o peso inverso para o índice dado, usado na conversão de volta para a tupla composta.\n",
        "\n",
        "    Parâmetros:\n",
        "    index (int): Índice do aspecto.\n",
        "    tau (tuple): Tupla acompanhante com o número de elementos em cada aspecto.\n",
        "\n",
        "    Retorna:\n",
        "    int: Peso do índice inverso.\n",
        "    \"\"\"\n",
        "    if index == 1:\n",
        "        return 1\n",
        "    else:\n",
        "        weight = 1\n",
        "        for j in range(1, index):\n",
        "            weight *= tau[j-1]  # Multiplica pelos números de elementos dos aspectos anteriores\n",
        "        return weight"
      ],
      "metadata": {
        "id": "REDshIxQOQ0f"
      },
      "execution_count": 1,
      "outputs": []
    },
    {
      "cell_type": "code",
      "source": [
        "def inverse_representation_number(rep_num, tau):\n",
        "    \"\"\"\n",
        "    Converte a representação numérica de volta para a tupla de vértices compostos.\n",
        "\n",
        "    Parâmetros:\n",
        "    rep_num (int): A representação numérica do vértice composto.\n",
        "    tau (tuple): Tupla acompanhante com o número de elementos em cada aspecto.\n",
        "\n",
        "    Retorna:\n",
        "    tuple: Tupla representando o vértice composto (localização, modo de transporte, etc.).\n",
        "    \"\"\"\n",
        "    num_aspects = len(tau)\n",
        "    rep_num -= 1  # Ajusta o número de acordo com a fórmula\n",
        "\n",
        "    vertex = []\n",
        "\n",
        "    for i in range(num_aspects, 0, -1):\n",
        "        weight = calculate_weight_inverse(i, tau)  # Calcula o peso do aspecto atual\n",
        "        aspect_value = rep_num // weight  # Encontra o valor do aspecto correspondente\n",
        "        vertex.insert(0, aspect_value)  # Insere o valor do aspecto no início da lista do vértice\n",
        "        rep_num %= weight  # Atualiza o número restante\n",
        "\n",
        "    return tuple(vertex)"
      ],
      "metadata": {
        "id": "XV2o0-9yOhS7"
      },
      "execution_count": 2,
      "outputs": []
    },
    {
      "cell_type": "code",
      "source": [
        "# Exemplo de uso:\n",
        "tau = (3, 2, 3)  # Tupla acompanhante: 3 localizações, 2 modos de transporte, 3 intervalos de tempo\n",
        "rep_num = 15  # A representação numérica do vértice composto (C, Ônibus, Noite)\n",
        "\n",
        "# Converte de volta para a tupla de vértices compostos\n",
        "vertex = inverse_representation_number(rep_num, tau)\n",
        "\n",
        "print(\"Vértice composto:\", vertex)"
      ],
      "metadata": {
        "colab": {
          "base_uri": "https://localhost:8080/"
        },
        "id": "vFady2IxOv-P",
        "outputId": "8c22be7e-ba6c-4a19-d3a7-520c56911b09"
      },
      "execution_count": 3,
      "outputs": [
        {
          "output_type": "stream",
          "name": "stdout",
          "text": [
            "Vértice composto: (2, 0, 2)\n"
          ]
        }
      ]
    }
  ]
}